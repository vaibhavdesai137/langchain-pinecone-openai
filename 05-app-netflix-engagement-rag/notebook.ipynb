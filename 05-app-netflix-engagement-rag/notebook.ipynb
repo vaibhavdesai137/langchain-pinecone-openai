{
 "cells": [
  {
   "cell_type": "markdown",
   "metadata": {},
   "source": [
    "---------------\n",
    "**Retrieval Augmented Generation**\n",
    "- Retrieval Augmented Generation (RAG) is a technique for enhancing the accuracy and reliability of generative AI models with facts fetched from external sources\n",
    "- It is also a way to feed new/updated data into LLMs\n",
    "- For eg: kjnowledge cut off date for gpt-3.5-turbo is Jan 2022 so it won't know anything after that\n",
    "- https://blogs.nvidia.com/blog/what-is-retrieval-augmented-generation/\n",
    "---------------\n",
    "**Project Setup**\n",
    "- We'll feed Netflix's engagement score to LLM and ask questions based on that\n",
    "- The dataset refers to engagement scores from Jan-Jun 2023\n",
    "- Out ChatGPT model (3.5-trubo) has no idea about this because it's knowledge cut off date was Jan 2022\n",
    "---------------\n",
    "Part 1: Prepare the documents (one time setup)\n",
    "- Load the data into LongChain Documents\n",
    "- Split the documents into chunks\n",
    "- Create embeddings for the chunks (i.e create vectors)\n",
    "- Save the chunks & embeddings to a vector database\n",
    "---------------\n",
    "Part 2: Search (once per query)\n",
    "- Create embeddings for user's question\n",
    "- Using the input embedding & stored embeddings:\n",
    "  - Rank the vectors based on similarity search\n",
    "  - The nearest vectors respresent chunks similar to user's question\n",
    "---------------\n",
    "Part 3: Integrate with LLM\n",
    "- Get original data chunks corressponding to vectors in step 2.4 above\n",
    "- Feed that as an input to LLM\n",
    "- Get the answer to user's question from LLM in a natural language\n",
    "---------------"
   ]
  },
  {
   "cell_type": "markdown",
   "metadata": {},
   "source": [
    "#### 1. Install Dependencies"
   ]
  },
  {
   "cell_type": "code",
   "execution_count": null,
   "metadata": {},
   "outputs": [],
   "source": [
    "pip install -r ../requirements.txt -q"
   ]
  },
  {
   "cell_type": "markdown",
   "metadata": {},
   "source": [
    "#### 2. Verify python-dotenv"
   ]
  },
  {
   "cell_type": "code",
   "execution_count": null,
   "metadata": {},
   "outputs": [],
   "source": [
    "import os\n",
    "import pinecone\n",
    "from dotenv import load_dotenv, find_dotenv\n",
    "load_dotenv(find_dotenv(), override=True)"
   ]
  },
  {
   "cell_type": "markdown",
   "metadata": {},
   "source": [
    "#### 3. Helper functions"
   ]
  },
  {
   "cell_type": "code",
   "execution_count": null,
   "metadata": {},
   "outputs": [],
   "source": [
    "# \n",
    "# langchain supports gazillion data sources\n",
    "# showing just a couple of examples here\n",
    "# we'll use csv loader for our actual RAG use case\n",
    "#\n",
    "\n",
    "\n",
    "# load from local docs\n",
    "def load_document_local(file_path):\n",
    "    \n",
    "  import os\n",
    "  name, ext = os.path.splitext(file_path)\n",
    "  \n",
    "  if ext == '.csv':\n",
    "    from langchain.document_loaders.csv_loader import CSVLoader\n",
    "    loader = CSVLoader(file_path)\n",
    "  elif ext == '.pdf':\n",
    "    from langchain.document_loaders import PyPDFLoader\n",
    "    loader = PyPDFLoader(file_path)\n",
    "  else:\n",
    "    print(f'unsupported file type: {ext}')\n",
    "    return None\n",
    "  \n",
    "  return loader.load()\n",
    "\n",
    "\n",
    "# load from wikipedia\n",
    "def load_document_wikipedia(query, lang='en', load_max_docs=2):\n",
    "  from langchain.document_loaders import WikipediaLoader\n",
    "  loader = WikipediaLoader(query=query, lang=lang, load_max_docs=load_max_docs)\n",
    "  return loader.load()\n",
    "\n",
    "\n",
    "# create chunks\n",
    "def chunk_data(data, chunk_size=256):\n",
    "  from langchain.text_splitter import RecursiveCharacterTextSplitter\n",
    "  text_splitter = RecursiveCharacterTextSplitter(\n",
    "    chunk_size = chunk_size,\n",
    "    chunk_overlap = 0\n",
    "  )\n",
    "  chunks = text_splitter.split_documents(data)\n",
    "  return chunks\n",
    "\n",
    "\n",
    "# compute embedding cost for a given set of chunks\n",
    "def get_embedding_cost(chunks):\n",
    "  import tiktoken\n",
    "  enc = tiktoken.encoding_for_model('text-embedding-ada-002')\n",
    "  total_tokens = sum([len(enc.encode(page.page_content)) for page in chunks])\n",
    "  cost = (total_tokens / 1000 * 0.0004)\n",
    "  print(f'total tokens: {total_tokens}')\n",
    "  return cost\n",
    "\n",
    "\n",
    "# delete a given pinecone index or all indexes\n",
    "def delete_pinecone_index(idx_name='all'):\n",
    "  import os\n",
    "  import pinecone\n",
    "  pinecone.init(\n",
    "    api_key=os.environ.get(\"PINECONE_API_KEY\"),\n",
    "    environment=os.environ.get(\"PINECONE_ENV\")\n",
    "  )  \n",
    "  if idx_name == 'all':\n",
    "    for index in pinecone.list_indexes():\n",
    "      pinecone.delete_index(index)\n",
    "  else:\n",
    "    pinecone.delete_index(idx_name)\n",
    "\n",
    "\n",
    "# create a pinecone index and insert embeddings or \n",
    "# fetch existing embeddings if index already exists\n",
    "def insert_or_fetch_embeddings(idx_name, chunks):\n",
    "  import os\n",
    "  import pinecone\n",
    "  from langchain.vectorstores import Pinecone\n",
    "  from langchain.embeddings import OpenAIEmbeddings\n",
    "  \n",
    "  embeddings = OpenAIEmbeddings()\n",
    "  pinecone.init(\n",
    "    api_key=os.environ.get(\"PINECONE_API_KEY\"),\n",
    "    environment=os.environ.get(\"PINECONE_ENV\")\n",
    "  )\n",
    "  \n",
    "  if idx_name in pinecone.list_indexes():\n",
    "    print(f'index: {idx_name} already exist, loading embeddings')\n",
    "    vector_store = Pinecone.from_existing_index(idx_name, embeddings)\n",
    "  else:\n",
    "    print(f'creating index {idx_name} and embeddings')\n",
    "    pinecone.create_index(name=idx_name, dimension=1536, metric='cosine')\n",
    "    vector_store = Pinecone.from_documents(chunks, embeddings, index_name = idx_name)\n",
    "    \n",
    "  return vector_store\n",
    "\n",
    "\n",
    "# get chunks from vector store based on similarity index\n",
    "# pass those chunks to LLM to get answers in natural language\n",
    "def get_answers(vector_store, query):\n",
    "  from langchain.chains import RetrievalQA\n",
    "  from langchain.chat_models import ChatOpenAI\n",
    "  \n",
    "  # retriever makes it easy to combine documents with llms\n",
    "  llm = ChatOpenAI(model='gpt-3.5-turbo', temperature=1.0)\n",
    "  retriever = vector_store.as_retriever(search_type='similarity', search_kwargs={'k': 3})\n",
    "\n",
    "  # create a chain that combines llm & retriever\n",
    "  # chain_type='stuff' is a predefined chain that uses all text from documents\n",
    "  chain = RetrievalQA.from_chain_type(llm=llm, retriever=retriever, chain_type='stuff')\n",
    "  resp = chain.run(query)\n",
    "  return resp\n",
    "\n",
    "\n",
    "# same as above but with memory i.e context awareness\n",
    "def get_answers_with_memory(vector_store, query, chat_history=[]):\n",
    "  from langchain.chat_models import ChatOpenAI\n",
    "  from langchain.chains import ConversationalRetrievalChain\n",
    "  \n",
    "  llm = ChatOpenAI(model='gpt-3.5-turbo', temperature=1.0)\n",
    "  retriever = vector_store.as_retriever(search_type='similarity', search_kwargs={'k': 3})\n",
    "  \n",
    "  crc = ConversationalRetrievalChain.from_llm(llm=llm, retriever=retriever)\n",
    "  resp = crc({'question': query, 'chat_history': chat_history})\n",
    "  chat_history.append((query, resp['answer']))\n",
    "  return resp, chat_history\n"
   ]
  },
  {
   "cell_type": "markdown",
   "metadata": {},
   "source": [
    "#### 5. Main Business Logic"
   ]
  },
  {
   "cell_type": "code",
   "execution_count": null,
   "metadata": {},
   "outputs": [],
   "source": [
    "# load csv\n",
    "data = load_document_local('./netflix-engagement-jan-jun-2023.csv')\n",
    "print(f'total records: {len(data)}')\n",
    "  \n",
    "# create chunks\n",
    "chunks = chunk_data(data)\n",
    "print(f'total chunks: {len(chunks)}')\n",
    "\n",
    "# get embedding cost\n",
    "cost = get_embedding_cost(chunks)\n",
    "print(f'embedding cost: {cost:.6f}')\n",
    "\n",
    "# create pinecone index and insert embeddings\n",
    "idx_name = 'netflix-engagement-jan-jun-2023'\n",
    "# delete_pinecone_index(idx_name)\n",
    "vector_store = insert_or_fetch_embeddings(idx_name, chunks)"
   ]
  },
  {
   "cell_type": "markdown",
   "metadata": {},
   "source": [
    "#### 6. Start Asking Questions"
   ]
  },
  {
   "cell_type": "code",
   "execution_count": null,
   "metadata": {},
   "outputs": [],
   "source": [
    "while True:\n",
    "  \n",
    "  query = input('your prompt: ')\n",
    "  \n",
    "  # break if user wants to quit\n",
    "  if query in ['quit', 'exit', 'bye', 'q']:\n",
    "    print('Goodbye!')\n",
    "    break\n",
    "  \n",
    "  # else ask the model for a response\n",
    "  resp = get_answers(vector_store, query)\n",
    "  print(f'prompt: {query}')\n",
    "  print(f'resp: {resp}')\n",
    "  print('_' * 50)"
   ]
  },
  {
   "cell_type": "markdown",
   "metadata": {},
   "source": [
    "#### 7. Start Asking Questions With Memory"
   ]
  },
  {
   "cell_type": "code",
   "execution_count": null,
   "metadata": {},
   "outputs": [],
   "source": [
    "chat_history = []\n",
    "\n",
    "while True:\n",
    "  \n",
    "  query = input('your prompt: ')\n",
    "  \n",
    "  # break if user wants to quit\n",
    "  if query in ['quit', 'exit', 'bye', 'q']:\n",
    "    print('Goodbye!')\n",
    "    break\n",
    "  \n",
    "  # else ask the model for a response\n",
    "  resp, chat_history = get_answers_with_memory(vector_store, query, chat_history)\n",
    "  print(f'prompt: {query}')\n",
    "  print(f'resp: {resp[\"answer\"]}')\n",
    "  print(f'chat_history: {chat_history}')\n",
    "  print('_' * 50)"
   ]
  }
 ],
 "metadata": {
  "kernelspec": {
   "display_name": "Python 3",
   "language": "python",
   "name": "python3"
  },
  "language_info": {
   "codemirror_mode": {
    "name": "ipython",
    "version": 3
   },
   "file_extension": ".py",
   "mimetype": "text/x-python",
   "name": "python",
   "nbconvert_exporter": "python",
   "pygments_lexer": "ipython3",
   "version": "3.11.4"
  }
 },
 "nbformat": 4,
 "nbformat_minor": 2
}

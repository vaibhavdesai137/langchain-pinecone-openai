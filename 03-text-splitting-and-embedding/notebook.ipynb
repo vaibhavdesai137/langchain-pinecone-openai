{
 "cells": [
  {
   "cell_type": "markdown",
   "metadata": {},
   "source": [
    "#### 1. Install Dependencies"
   ]
  },
  {
   "cell_type": "code",
   "execution_count": null,
   "metadata": {},
   "outputs": [],
   "source": [
    "pip install -r ../requirements.txt -q"
   ]
  },
  {
   "cell_type": "code",
   "execution_count": null,
   "metadata": {},
   "outputs": [],
   "source": [
    "pip show pinecone-client"
   ]
  },
  {
   "cell_type": "markdown",
   "metadata": {},
   "source": [
    "#### 2. Verify python-dotenv"
   ]
  },
  {
   "cell_type": "code",
   "execution_count": null,
   "metadata": {},
   "outputs": [],
   "source": [
    "import os\n",
    "import pinecone\n",
    "from dotenv import load_dotenv, find_dotenv\n",
    "load_dotenv(find_dotenv(), override=True)"
   ]
  },
  {
   "cell_type": "markdown",
   "metadata": {},
   "source": [
    "#### 3. Split Text Into Chunks"
   ]
  },
  {
   "cell_type": "code",
   "execution_count": null,
   "metadata": {},
   "outputs": [],
   "source": [
    "from langchain.text_splitter import RecursiveCharacterTextSplitter\n",
    "\n",
    "with open('nehru_speech.txt') as f:\n",
    "  nehru_speech = f.read()\n",
    "  \n",
    "text_splitter = RecursiveCharacterTextSplitter(\n",
    "  chunk_size = 100,\n",
    "  chunk_overlap = 20,\n",
    "  length_function = len,\n",
    ")\n",
    "\n",
    "chunks = text_splitter.create_documents([nehru_speech])\n",
    "print(f'total chunks: {len(chunks)}')\n",
    "print(chunks[0])\n",
    "print(chunks[0].page_content)"
   ]
  },
  {
   "cell_type": "markdown",
   "metadata": {},
   "source": [
    "#### 4. Embedding Cost"
   ]
  },
  {
   "cell_type": "code",
   "execution_count": null,
   "metadata": {},
   "outputs": [],
   "source": [
    "def get_embedding_cost(texts):\n",
    "  import tiktoken\n",
    "  enc = tiktoken.encoding_for_model('text-embedding-ada-002')\n",
    "  total_tokens = sum([len(enc.encode(page.page_content)) for page in texts])\n",
    "  print(f'total tokens: {total_tokens}')\n",
    "  print(f'embedding cost USD: {total_tokens / 1000 * 0.0004:.6f}')\n",
    "  \n",
    "get_embedding_cost(chunks)"
   ]
  },
  {
   "cell_type": "markdown",
   "metadata": {},
   "source": [
    "#### 5. Create Embeddings"
   ]
  },
  {
   "cell_type": "code",
   "execution_count": null,
   "metadata": {},
   "outputs": [],
   "source": [
    "from langchain.embeddings import OpenAIEmbeddings\n",
    "embeddings = OpenAIEmbeddings()\n",
    "\n",
    "# vector = embeddings.embed_query('abcd')\n",
    "# print(vector)\n",
    "\n",
    "vector = embeddings.embed_query(chunks[0].page_content)\n",
    "print(vector)"
   ]
  },
  {
   "cell_type": "markdown",
   "metadata": {},
   "source": [
    "#### 6. Insert Embeddings Into Pinecone Index"
   ]
  },
  {
   "cell_type": "code",
   "execution_count": null,
   "metadata": {},
   "outputs": [],
   "source": [
    "import os\n",
    "import pinecone\n",
    "from langchain.vectorstores import Pinecone\n",
    "\n",
    "pinecone.init(\n",
    "  api_key=os.environ.get(\"PINECONE_API_KEY\"),\n",
    "  environment=os.environ.get(\"PINECONE_ENV\")\n",
    ")\n",
    "\n",
    "# delete all indexex (only 1 index is allowed per account in free tier)\n",
    "print('deleting all indexes...')\n",
    "for idx_name in pinecone.list_indexes():\n",
    "  pinecone.delete_index(idx_name)  \n",
    "print('indexes deleted')\n",
    "\n",
    "# create index\n",
    "idx_name='nehru-speech'\n",
    "print(f'creating index {idx_name}...')\n",
    "pinecone.create_index(name=idx_name, dimension=1536, metric='cosine')\n",
    "print('index created')\n",
    "\n",
    "# creates a vector store by taking chunks as inputs\n",
    "# then creating embeddings for it using OpenAIEmbeddings\n",
    "# then stroing it in our specified index\n",
    "print(f'adding {len(chunks)} vectors to index {idx_name} for {len(chunks)} chunks...')\n",
    "vector_store = Pinecone.from_documents(chunks, embeddings, index_name = idx_name)\n",
    "print(f'vectors added')"
   ]
  },
  {
   "cell_type": "markdown",
   "metadata": {},
   "source": [
    "#### 7. Asking Questions (Similarity Search)"
   ]
  },
  {
   "cell_type": "code",
   "execution_count": null,
   "metadata": {},
   "outputs": [],
   "source": [
    "# these queries simply return the exact chunk as stored in bector db based on similarity vector\n",
    "# the results are kinda accurate but still not how a human would answer\n",
    "# we need the answers in a natural language\n",
    "\n",
    "print('-' * 10)\n",
    "query = 'What is the speech about?'\n",
    "result = vector_store.similarity_search(query)\n",
    "print(f'query: {query}')\n",
    "for i in range(len(result)):\n",
    "  print(f'result {i} : {result[i].page_content}')\n",
    "\n",
    "print('-' * 10)\n",
    "query = 'What will happen at stroke of midnight?'\n",
    "result = vector_store.similarity_search(query)\n",
    "print(f'query: {query}')\n",
    "for i in range(len(result)):\n",
    "  print(f'result {i} : {result[i].page_content}')\n",
    "  \n",
    "print('-' * 10)\n",
    "query = 'What is the ambitious man trying to achieve?'\n",
    "result = vector_store.similarity_search(query)\n",
    "print(f'query: {query}')\n",
    "for i in range(len(result)):\n",
    "  print(f'result {i} : {result[i].page_content}')"
   ]
  },
  {
   "cell_type": "markdown",
   "metadata": {},
   "source": [
    "#### 8. Asking Same Questions to LLM"
   ]
  },
  {
   "cell_type": "code",
   "execution_count": null,
   "metadata": {},
   "outputs": [],
   "source": [
    "# fix the disadvantages of previous approach\n",
    "# we use the answers from vector store & feed them to LLM\n",
    "\n",
    "from langchain.chains import RetrievalQA\n",
    "from langchain.chat_models import ChatOpenAI\n",
    "\n",
    "# init chat based llm\n",
    "llm = ChatOpenAI(model='gpt-3.5-turbo', temperature=1.0)\n",
    "\n",
    "# retriever makes it easy to combine docsuments with llms\n",
    "retriever = vector_store.as_retriever(search_type='similarity', search_kwargs={'k': 3})\n",
    "\n",
    "# create a chain that combines llm & retriever\n",
    "# chain_type='stuff' is a predefined chain that uses all text from documents\n",
    "chain = RetrievalQA.from_chain_type(llm=llm, retriever=retriever, chain_type='stuff')\n",
    "\n",
    "print('-' * 10)\n",
    "query = 'What is the speech about?'\n",
    "result = chain.run(query)\n",
    "print(f'query: {query}')\n",
    "print(f'result: {result}')\n",
    "\n",
    "print('-' * 10)\n",
    "query = 'What will happen at stroke of midnight?'\n",
    "result = chain.run(query)\n",
    "print(f'query: {query}')\n",
    "print(f'result: {result}')\n",
    "\n",
    "print('-' * 10)\n",
    "query = 'What is the ambitious man trying to achieve?'\n",
    "result = chain.run(query)\n",
    "print(f'query: {query}')\n",
    "print(f'result: {result}')"
   ]
  }
 ],
 "metadata": {
  "kernelspec": {
   "display_name": "Python 3",
   "language": "python",
   "name": "python3"
  },
  "language_info": {
   "codemirror_mode": {
    "name": "ipython",
    "version": 3
   },
   "file_extension": ".py",
   "mimetype": "text/x-python",
   "name": "python",
   "nbconvert_exporter": "python",
   "pygments_lexer": "ipython3",
   "version": "3.11.4"
  }
 },
 "nbformat": 4,
 "nbformat_minor": 2
}

{
 "cells": [
  {
   "cell_type": "markdown",
   "metadata": {},
   "source": [
    "#### 1. Install Dependencies"
   ]
  },
  {
   "cell_type": "code",
   "execution_count": 1,
   "metadata": {},
   "outputs": [
    {
     "name": "stdout",
     "output_type": "stream",
     "text": [
      "\n",
      "\u001b[1m[\u001b[0m\u001b[34;49mnotice\u001b[0m\u001b[1;39;49m]\u001b[0m\u001b[39;49m A new release of pip is available: \u001b[0m\u001b[31;49m23.0.1\u001b[0m\u001b[39;49m -> \u001b[0m\u001b[32;49m23.3.2\u001b[0m\n",
      "\u001b[1m[\u001b[0m\u001b[34;49mnotice\u001b[0m\u001b[1;39;49m]\u001b[0m\u001b[39;49m To update, run: \u001b[0m\u001b[32;49mpip install --upgrade pip\u001b[0m\n",
      "Note: you may need to restart the kernel to use updated packages.\n"
     ]
    }
   ],
   "source": [
    "pip install -r ../requirements.txt -q"
   ]
  },
  {
   "cell_type": "code",
   "execution_count": 2,
   "metadata": {},
   "outputs": [
    {
     "name": "stdout",
     "output_type": "stream",
     "text": [
      "Name: pinecone-client\n",
      "Version: 2.2.4\n",
      "Summary: Pinecone client and SDK\n",
      "Home-page: https://www.pinecone.io/\n",
      "Author: Pinecone Systems, Inc.\n",
      "Author-email: support@pinecone.io\n",
      "License: Proprietary License\n",
      "Location: /Users/vdesai/Dev/git/vaibhavdesai137/langchain-pinecone-openai/.venv/lib/python3.11/site-packages\n",
      "Requires: dnspython, loguru, numpy, python-dateutil, pyyaml, requests, tqdm, typing-extensions, urllib3\n",
      "Required-by: \n",
      "Note: you may need to restart the kernel to use updated packages.\n"
     ]
    }
   ],
   "source": [
    "pip show pinecone-client"
   ]
  },
  {
   "cell_type": "markdown",
   "metadata": {},
   "source": [
    "#### 2. Verify Pinecone"
   ]
  },
  {
   "cell_type": "code",
   "execution_count": 3,
   "metadata": {},
   "outputs": [
    {
     "name": "stderr",
     "output_type": "stream",
     "text": [
      "/Users/vdesai/Dev/git/vaibhavdesai137/langchain-pinecone-openai/.venv/lib/python3.11/site-packages/pinecone/index.py:4: TqdmWarning: IProgress not found. Please update jupyter and ipywidgets. See https://ipywidgets.readthedocs.io/en/stable/user_install.html\n",
      "  from tqdm.autonotebook import tqdm\n"
     ]
    },
    {
     "data": {
      "text/plain": [
       "VersionResponse(server='2.0.11', client='2.2.4')"
      ]
     },
     "execution_count": 3,
     "metadata": {},
     "output_type": "execute_result"
    }
   ],
   "source": [
    "import os\n",
    "import pinecone\n",
    "from dotenv import load_dotenv, find_dotenv\n",
    "load_dotenv(find_dotenv(), override=True)\n",
    "\n",
    "pinecone.init(\n",
    "  api_key=os.environ.get(\"PINECONE_API_KEY\"),\n",
    "  environment=os.environ.get(\"PINECONE_ENV\")\n",
    ")\n",
    "pinecone.info.version()"
   ]
  },
  {
   "cell_type": "markdown",
   "metadata": {},
   "source": [
    "#### 3. Pinecone Indexes"
   ]
  },
  {
   "cell_type": "code",
   "execution_count": 4,
   "metadata": {},
   "outputs": [
    {
     "name": "stdout",
     "output_type": "stream",
     "text": [
      "Index langchain-pinecone already exists. Not creating one.\n"
     ]
    },
    {
     "data": {
      "text/plain": [
       "{'dimension': 1536,\n",
       " 'index_fullness': 5e-05,\n",
       " 'namespaces': {'': {'vector_count': 5}},\n",
       " 'total_vector_count': 5}"
      ]
     },
     "execution_count": 4,
     "metadata": {},
     "output_type": "execute_result"
    }
   ],
   "source": [
    "idx_name = 'langchain-pinecone'\n",
    "\n",
    "####################\n",
    "### create index ###\n",
    "####################\n",
    "\n",
    "# only one index allowed in free account\n",
    "if idx_name not in pinecone.list_indexes():\n",
    "  pinecone.create_index(name=idx_name, dimension=1536, metric='cosine', pods=1, pod_type='p1.x2')\n",
    "else:\n",
    "  print(f'Index {idx_name} already exists. Not creating one.')\n",
    "  \n",
    "######################\n",
    "### describe index ###\n",
    "######################\n",
    "\n",
    "pinecone.describe_index(idx_name)\n",
    "pinecone.Index(idx_name).describe_index_stats()"
   ]
  },
  {
   "cell_type": "markdown",
   "metadata": {},
   "source": [
    "#### 6. Pinecone Vectors"
   ]
  },
  {
   "cell_type": "code",
   "execution_count": 6,
   "metadata": {},
   "outputs": [
    {
     "data": {
      "text/plain": [
       "{'matches': [{'id': 'A', 'score': 0.756775916, 'values': []},\n",
       "             {'id': 'D', 'score': 0.748367906, 'values': []}],\n",
       " 'namespace': ''}"
      ]
     },
     "execution_count": 6,
     "metadata": {},
     "output_type": "execute_result"
    }
   ],
   "source": [
    "import random\n",
    "idx_name = 'langchain-pinecone'\n",
    "\n",
    "######################\n",
    "### create vectors ###\n",
    "######################\n",
    "\n",
    "# create 10 random vectors\n",
    "# each vector is a list of 1536 floats\n",
    "vectors = [[random.random() for _ in range(1536)] for _ in range(5)]\n",
    "\n",
    "# unqiue id for each vector from above\n",
    "ids = list('ABCDE')\n",
    "idx = pinecone.Index(idx_name)\n",
    "idx.upsert(vectors=zip(ids, vectors))\n",
    "\n",
    "######################\n",
    "### update vectors ###\n",
    "######################\n",
    "\n",
    "# update vectors with id 'A'\n",
    "updated_vectors = [random.random() for _ in range(1536)]\n",
    "idx = pinecone.Index(idx_name)\n",
    "idx.upsert(vectors=[('A', updated_vectors)])\n",
    "\n",
    "#####################\n",
    "### fetch vectors ###\n",
    "#####################\n",
    "\n",
    "# fetch vectors with id 'A' and 'C'\n",
    "idx = pinecone.Index(idx_name)\n",
    "idx.fetch(ids=['A', 'C'])\n",
    "\n",
    "#####################\n",
    "### query vectors ###\n",
    "#####################\n",
    "\n",
    "# create two random vectors to search for\n",
    "random_vector = [[random.random() for _ in range(1536)] for _ in range(1)]\n",
    "idx = pinecone.Index(idx_name)\n",
    "idx.query(\n",
    "  vector=random_vector, \n",
    "  top_k=2,\n",
    "  include_values=False\n",
    ")"
   ]
  },
  {
   "cell_type": "markdown",
   "metadata": {},
   "source": [
    "#### 8. Delete Vectors & Indexes"
   ]
  },
  {
   "cell_type": "code",
   "execution_count": null,
   "metadata": {},
   "outputs": [
    {
     "data": {
      "text/plain": [
       "{'matches': [{'id': 'D', 'score': 0.770377219, 'values': []},\n",
       "             {'id': 'A', 'score': 0.75805676, 'values': []},\n",
       "             {'id': 'E', 'score': 0.757711649, 'values': []}],\n",
       " 'namespace': ''}"
      ]
     },
     "execution_count": 23,
     "metadata": {},
     "output_type": "execute_result"
    }
   ],
   "source": [
    "############################\n",
    "### delete vectors by id ###\n",
    "############################\n",
    "\n",
    "# delete vectors with id 'B' and 'D'\n",
    "# idx = pinecone.Index(idx_name)\n",
    "# idx.delete(ids=['B', 'D'])\n",
    "\n",
    "##########################\n",
    "### delete all vectors ###\n",
    "##########################\n",
    "\n",
    "# idx = pinecone.Index(idx_name)  \n",
    "# idx.delete_all()\n",
    "\n",
    "####################\n",
    "### delete index ###\n",
    "####################\n",
    "\n",
    "# if idx_name in pinecone.list_indexes():\n",
    "#   pinecone.delete_index(idx_name)\n",
    "# else:\n",
    "#   print(f'Index {idx_name} does not exist.')"
   ]
  }
 ],
 "metadata": {
  "kernelspec": {
   "display_name": "Python 3",
   "language": "python",
   "name": "python3"
  },
  "language_info": {
   "codemirror_mode": {
    "name": "ipython",
    "version": 3
   },
   "file_extension": ".py",
   "mimetype": "text/x-python",
   "name": "python",
   "nbconvert_exporter": "python",
   "pygments_lexer": "ipython3",
   "version": "3.11.4"
  }
 },
 "nbformat": 4,
 "nbformat_minor": 2
}

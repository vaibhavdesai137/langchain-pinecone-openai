{
 "cells": [
  {
   "cell_type": "markdown",
   "metadata": {},
   "source": [
    "#### 1. Install Dependencies"
   ]
  },
  {
   "cell_type": "code",
   "execution_count": null,
   "metadata": {},
   "outputs": [],
   "source": [
    "pip install -r requirements.txt -q"
   ]
  },
  {
   "cell_type": "code",
   "execution_count": null,
   "metadata": {},
   "outputs": [],
   "source": [
    "pip show pinecone-client"
   ]
  },
  {
   "cell_type": "markdown",
   "metadata": {},
   "source": [
    "#### 2. Verify Pinecone"
   ]
  },
  {
   "cell_type": "code",
   "execution_count": null,
   "metadata": {},
   "outputs": [],
   "source": [
    "import os\n",
    "import pinecone\n",
    "from dotenv import load_dotenv, find_dotenv\n",
    "load_dotenv(find_dotenv(), override=True)\n",
    "\n",
    "pinecone.init(\n",
    "  api_key=os.environ.get(\"PINECONE_API_KEY\"),\n",
    "  environment=os.environ.get(\"PINECONE_ENV\")\n",
    ")\n",
    "pinecone.info.version()"
   ]
  },
  {
   "cell_type": "markdown",
   "metadata": {},
   "source": [
    "#### 3. Pinecone Indexes"
   ]
  },
  {
   "cell_type": "code",
   "execution_count": null,
   "metadata": {},
   "outputs": [],
   "source": [
    "idx_name = 'langchain-pinecone'\n",
    "\n",
    "####################\n",
    "### create index ###\n",
    "####################\n",
    "\n",
    "# only one index allowed in free account\n",
    "if idx_name not in pinecone.list_indexes():\n",
    "  pinecone.create_index(name=idx_name, dimension=1536, metric='cosine', pods=1, pod_type='p1.x2')\n",
    "else:\n",
    "  print(f'Index {idx_name} already exists. Not creating one.')\n",
    "  \n",
    "######################\n",
    "### describe index ###\n",
    "######################\n",
    "\n",
    "pinecone.describe_index(idx_name)\n",
    "pinecone.Index(idx_name).describe_index_stats()"
   ]
  },
  {
   "cell_type": "markdown",
   "metadata": {},
   "source": [
    "#### 6. Pinecone Vectors"
   ]
  },
  {
   "cell_type": "code",
   "execution_count": 25,
   "metadata": {},
   "outputs": [
    {
     "data": {
      "text/plain": [
       "{'matches': [{'id': 'E', 'score': 0.749005854, 'values': []},\n",
       "             {'id': 'D', 'score': 0.748185635, 'values': []}],\n",
       " 'namespace': ''}"
      ]
     },
     "execution_count": 25,
     "metadata": {},
     "output_type": "execute_result"
    }
   ],
   "source": [
    "import random\n",
    "idx_name = 'langchain-pinecone'\n",
    "\n",
    "######################\n",
    "### create vectors ###\n",
    "######################\n",
    "\n",
    "# create 10 random vectors\n",
    "# each vector is a list of 1536 floats\n",
    "vectors = [[random.random() for _ in range(1536)] for _ in range(5)]\n",
    "\n",
    "# unqiue id for each vector from above\n",
    "ids = list('ABCDE')\n",
    "idx = pinecone.Index(idx_name)\n",
    "idx.upsert(vectors=zip(ids, vectors))\n",
    "\n",
    "######################\n",
    "### update vectors ###\n",
    "######################\n",
    "\n",
    "# update vectors with id 'A'\n",
    "updated_vectors = [random.random() for _ in range(1536)]\n",
    "idx = pinecone.Index(idx_name)\n",
    "idx.upsert(vectors=[('A', updated_vectors)])\n",
    "\n",
    "#####################\n",
    "### fetch vectors ###\n",
    "#####################\n",
    "\n",
    "# fetch vectors with id 'A' and 'C'\n",
    "idx = pinecone.Index(idx_name)\n",
    "idx.fetch(ids=['A', 'C'])\n",
    "\n",
    "#####################\n",
    "### query vectors ###\n",
    "#####################\n",
    "\n",
    "# create two random vectors to search for\n",
    "random_vector = [[random.random() for _ in range(1536)] for _ in range(2)]\n",
    "idx = pinecone.Index(idx_name)\n",
    "idx.query(\n",
    "  vector=random_vector, \n",
    "  top_k=2,\n",
    "  include_values=False\n",
    ")"
   ]
  },
  {
   "cell_type": "markdown",
   "metadata": {},
   "source": [
    "#### 8. Delete Vectors & Indexes"
   ]
  },
  {
   "cell_type": "code",
   "execution_count": 23,
   "metadata": {},
   "outputs": [
    {
     "data": {
      "text/plain": [
       "{'matches': [{'id': 'D', 'score': 0.770377219, 'values': []},\n",
       "             {'id': 'A', 'score': 0.75805676, 'values': []},\n",
       "             {'id': 'E', 'score': 0.757711649, 'values': []}],\n",
       " 'namespace': ''}"
      ]
     },
     "execution_count": 23,
     "metadata": {},
     "output_type": "execute_result"
    }
   ],
   "source": [
    "############################\n",
    "### delete vectors by id ###\n",
    "############################\n",
    "\n",
    "# delete vectors with id 'B' and 'D'\n",
    "# idx = pinecone.Index(idx_name)\n",
    "# idx.delete(ids=['B', 'D'])\n",
    "\n",
    "##########################\n",
    "### delete all vectors ###\n",
    "##########################\n",
    "\n",
    "# idx = pinecone.Index(idx_name)  \n",
    "# idx.delete_all()\n",
    "\n",
    "####################\n",
    "### delete index ###\n",
    "####################\n",
    "\n",
    "# if idx_name in pinecone.list_indexes():\n",
    "#   pinecone.delete_index(idx_name)\n",
    "# else:\n",
    "#   print(f'Index {idx_name} does not exist.')"
   ]
  }
 ],
 "metadata": {
  "kernelspec": {
   "display_name": "Python 3",
   "language": "python",
   "name": "python3"
  },
  "language_info": {
   "codemirror_mode": {
    "name": "ipython",
    "version": 3
   },
   "file_extension": ".py",
   "mimetype": "text/x-python",
   "name": "python",
   "nbconvert_exporter": "python",
   "pygments_lexer": "ipython3",
   "version": "3.11.4"
  }
 },
 "nbformat": 4,
 "nbformat_minor": 2
}
